{
 "cells": [
  {
   "cell_type": "markdown",
   "metadata": {},
   "source": [
    "# Advanced Architectures / Prompting Techniques \n",
    "\n",
    "Advanced techniques of applying LLM to usecases include changes to the architecture of a basic LLM and/or unique prompting techniques and often a combination of both. \n",
    "\n",
    " - Chain of Thought (CoT)\n",
    " - ReAct\n",
    " - Function Calling\n",
    " - RAG\n",
    " - Prompt Chaining\n",
    " - Tree of Thoughts (ToT)\n",
    " - Self-Consistency\n",
    " - Self-Ask"
   ]
  },
  {
   "cell_type": "code",
   "execution_count": 1,
   "metadata": {},
   "outputs": [],
   "source": [
    "# Importing the library for OpenAI API\n",
    "import openai\n",
    "openai.api_base = \"https://openai.vocareum.com/v1\"\n",
    "\n",
    "# Define OpenAI API key \n",
    "api_key = \"voc-863264702126677398047467ee2c4e76d1d8.74527469\"\n",
    "openai.api_key = api_key"
   ]
  },
  {
   "cell_type": "code",
   "execution_count": 14,
   "metadata": {},
   "outputs": [],
   "source": [
    "import openai\n",
    "from openai import OpenAI\n",
    "client = OpenAI(\n",
    "    base_url = \"https://openai.vocareum.com/v1\",\n",
    "    api_key = \"voc-863264702126677398047467ee2c4e76d1d8.74527469\"\n",
    ")"
   ]
  },
  {
   "cell_type": "code",
   "execution_count": 32,
   "metadata": {},
   "outputs": [],
   "source": [
    "# LLM function call\n",
    "def get_response(messages, model=\"gpt-3.5-turbo\", temperature=0, max_tokens=512):\n",
    "    response = client.chat.completions.create(\n",
    "        model=model,\n",
    "        messages=messages,\n",
    "        temperature=temperature,\n",
    "        max_tokens=max_tokens,\n",
    "    )\n",
    "    return response.choices[0].message.content"
   ]
  },
  {
   "cell_type": "markdown",
   "metadata": {},
   "source": [
    "## Chain of Thought\n",
    "**Note**: LLMs dont think and reason as technique name suggests. This technique simply triggers a slightly different response that enables arriving at the right answer. \n",
    " - Tells the model to think step by step before answering. Why? Improves reasoning, math, logic, and complex decision tasks.\n",
    " - As simple as, telling it to think in steps. "
   ]
  },
  {
   "cell_type": "code",
   "execution_count": null,
   "metadata": {},
   "outputs": [
    {
     "name": "stdout",
     "output_type": "stream",
     "text": [
      "Sure, let's plan out the steps carefully to ensure that the fox, goose, and bag of beans all cross the river safely. Here's the step-by-step solution:\n",
      "\n",
      "1. The farmer takes the goose across the river and leaves it on the other side.\n",
      "2. The farmer goes back alone to the starting side.\n",
      "3. The farmer then takes the fox across the river.\n",
      "4. The farmer leaves the fox on the other side and takes the goose back with him to the starting side.\n",
      "5. The farmer leaves the goose on the starting side and takes the bag of beans across the river.\n",
      "6. The farmer leaves the bag of beans with the fox on the other side and goes back alone to the starting side.\n",
      "7. Finally, the farmer takes the goose across the river one last time.\n",
      "\n",
      "By following these steps, the farmer can safely transport the fox, goose, and bag of beans across the river without any of them being eaten.\n"
     ]
    }
   ],
   "source": [
    "system_prompt = \"You are a helpful assistant who addresses queries in any topic\"\n",
    "user_prompt = \"\"\"A farmer needs to cross a river with a fox, a goose, and a bag of beans.\n",
    "He has a boat, but it can only carry him and one other item at a time.\n",
    "If left alone together then The fox will eat the goose and The goose will eat the beans.\n",
    "How can the farmer get all three across safely?\n",
    "Let's think through each step one by one to ensure nothing is eaten.\"\"\"\n",
    "\n",
    "messages=[\n",
    "          {\"role\": \"system\",\"content\": system_prompt},\n",
    "          {\"role\": \"user\",\"content\": user_prompt}\n",
    "          ]\n",
    "\n",
    "response = get_response(messages)\n",
    "print(response)"
   ]
  },
  {
   "cell_type": "markdown",
   "metadata": {},
   "source": [
    "## ReAct Technique\n",
    "ReAct is using the “reasoning and acting” (ReAct) framework to combine chain of thought (CoT) reasoning with external tool use.\n",
    "- ReAct can be understood most generally as a machine learning (ML) paradigm to integrate the reasoning and action-taking capabilities of LLMs.\n",
    "- It has been extended to AI Agents which use this conceptual framework a lot\n",
    "- ReAct framework uses prompt engineering to structure LLMs activity in a formal pattern of alternating thoughts, actions and observations.\n",
    "- Reference : https://www.ibm.com/think/topics/react-agent"
   ]
  },
  {
   "cell_type": "markdown",
   "metadata": {},
   "source": [
    "- Without ReACT Prompting"
   ]
  },
  {
   "cell_type": "code",
   "execution_count": 34,
   "metadata": {},
   "outputs": [
    {
     "name": "stdout",
     "output_type": "stream",
     "text": [
      "There are several ways to determine if your diet is improving your wellness. Here are some tips to help you assess the impact of your diet on your overall well-being:\n",
      "\n",
      "1. **Energy levels**: Pay attention to your energy levels throughout the day. A well-balanced diet that includes a variety of nutrients should provide you with sustained energy levels and help you feel more alert and focused.\n",
      "\n",
      "2. **Mood**: Your diet can also have an impact on your mood. Notice if you feel more positive, less irritable, or more emotionally balanced after making changes to your diet.\n",
      "\n",
      "3. **Digestive health**: A healthy diet should support good digestion and regular bowel movements. If you experience less bloating, gas, or indigestion, it could be a sign that your diet is benefiting your digestive health.\n",
      "\n",
      "4. **Weight management**: If weight management is a goal for you, tracking your weight and body measurements can help you determine if your diet is supporting your goals.\n",
      "\n",
      "5. **Physical health**: Improved physical health can be a good indicator that your diet is working for you. This can include improvements in blood pressure, cholesterol levels, and blood sugar levels.\n",
      "\n",
      "6. **Skin health**: Your skin can also reflect the state of your diet. If you notice improvements in your skin, such as clearer complexion or reduced acne, it could be a sign that your diet is benefiting your skin health.\n",
      "\n",
      "7. **Overall well-being**: Pay attention to how you feel overall. If you feel more vibrant, have better immunity, and experience fewer aches and pains, it could be a sign that your diet is contributing to your overall wellness.\n",
      "\n",
      "Remember that everyone's body is different, so it's important to listen to your own body and make adjustments to your diet based on how you feel. If you have specific wellness goals or concerns, consider consulting with a healthcare provider or a registered dietitian for personalized guidance.\n"
     ]
    }
   ],
   "source": [
    "# Creating the prompt\n",
    "system_prompt = \"You are a helpful Wellness assistant with a goal to improve the wellness of the user\"\n",
    "user_prompt = \"How can I know my diet is improving my wellness?\"\n",
    "\n",
    "\n",
    "messages=[\n",
    "          {\"role\": \"system\",\"content\": system_prompt},\n",
    "          {\"role\": \"user\",\"content\": user_prompt}\n",
    "          ]\n",
    "\n",
    "response = get_response(messages)\n",
    "print(response)"
   ]
  },
  {
   "cell_type": "markdown",
   "metadata": {},
   "source": [
    "- With ReACT Prompting"
   ]
  },
  {
   "cell_type": "code",
   "execution_count": 35,
   "metadata": {},
   "outputs": [
    {
     "name": "stdout",
     "output_type": "stream",
     "text": [
      "(Thought) User is interested in understanding how their diet impacts their overall wellness.\n",
      "\n",
      "Collect[Details about user's current diet]: What does a typical day of eating look like for you? Do you have any specific dietary preferences or restrictions?\n",
      "\n",
      "Provide[Wellness Information]: A balanced diet plays a crucial role in improving overall wellness. It should include a variety of fruits, vegetables, whole grains, lean proteins, and healthy fats. Monitoring how your body feels, your energy levels, digestion, and mood can give you insights into how your diet is affecting your wellness.\n",
      "\n",
      "Recommend[Plan]: To assess if your diet is improving your wellness, consider keeping a food journal to track what you eat and how you feel after eating. Look for patterns in your energy levels, mood, and any physical symptoms. You can also consult with a nutritionist or dietitian for personalized guidance on how to optimize your diet for better wellness outcomes.\n",
      "\n",
      "Observation: How do you feel after meals? Are there any specific symptoms or changes you notice in your body based on what you eat? Would you be interested in keeping a food journal to track your diet and wellness outcomes?\n"
     ]
    }
   ],
   "source": [
    "system_prompt =\"\"\"Your goal is to improve the wellness of the user by interleaving thought, action, and observation steps.\n",
    "              (Thought Step) Begin by assessing the user's current wellness situation. Consider factors like their reported diet, exercise habits, mental health status, and any specific wellness goals they have shared.\n",
    "              (Action Steps) Collect[Data from user] - Engage with the user to gather essential wellness information, data, or metrics. This can include dietary habits, fitness routines, stress levels, sleep patterns, and wellness objectives. \n",
    "                             Provide[Wellness Information] - Based on the collected data and current wellness trends, offer knowledge and insights about nutrition, exercise regimes, mental wellness practices, and relevant biological or medical information that supports and improves wellness. \n",
    "                             Recommend[Plan] - Conclude with a tailored recommendation or a specific action plan that the user can implement to enhance their wellness. This could be a dietary change, a new exercise, a mental relaxation technique, or a suggestion to consult a healthcare professional for more personalized advice. \n",
    "              (Observation Step) Respond to the user with the Action Steps, and observe the user's response and engagement. Gauge their understanding and willingness to follow the suggestions. Be ready to offer further clarification or alternative recommendations if needed.\n",
    "              Repeat these steps N times until the user's wellness has improved.\n",
    "              Example: \n",
    "              [User Query] I'm feeling stressed and not sleeping well. What can I do to improve my sleep? \n",
    "              (Thought) User is experiencing stress and poor sleep, likely interconnected issues. \n",
    "              Collect[Details about user's current stressors and sleep habits], \n",
    "              Provide[Information on relaxation techniques and sleep hygiene practices]. \n",
    "              Recommend)[Plan] Consider trying meditation before bed and establishing a regular sleep schedule. \n",
    "              What are some current stressors in your life? How many hours of sleep do you get each night?\n",
    "              Have you tried meditation before bed? Do you have a regular sleep schedule?\n",
    "              Consider trying meditation before bed and establishing a regular sleep schedule.\n",
    "              Let's create a plan to meditate for 10 minutes before bed each night this week.\n",
    "              What are some other wellness goals you have or wellness issues you are experiencing?\n",
    "              \"\"\"\n",
    "user_prompt = \"How can I know my diet is improving my wellness?\"\n",
    "\n",
    "\n",
    "messages=[\n",
    "          {\"role\": \"system\",\"content\": system_prompt},\n",
    "          {\"role\": \"user\",\"content\": user_prompt}\n",
    "          ]\n",
    "\n",
    "response = get_response(messages)\n",
    "print(response)"
   ]
  },
  {
   "cell_type": "markdown",
   "metadata": {},
   "source": [
    " - Next to do: https://www.ibm.com/think/tutorials/deploy-langgraph-react-agent-manage-it-support-tickets-watsonx-ai"
   ]
  },
  {
   "cell_type": "markdown",
   "metadata": {},
   "source": [
    "## Function Calling\n",
    " ReACT suggested that LLM should be able reason and act including making API calls to other programs but there was no such facility until OpenAI added \"Function Calling\" feature. OpenAI fine-tuned its models such that it can recognize the need to call another function and suggests it to the user. \n",
    " - In a typical Function calling workflow, LLM suggests making a function call by naming a function and providing arguments for the function, user triggers the function call on their backend and returns the results back to the LLM as next input. LLM concludes the worlflow with the final word based on the input received. \n",
    "  - Reference: https://openai.com/index/function-calling-and-other-api-updates/\n",
    "  "
   ]
  },
  {
   "cell_type": "code",
   "execution_count": null,
   "metadata": {},
   "outputs": [],
   "source": []
  }
 ],
 "metadata": {
  "kernelspec": {
   "display_name": "llm",
   "language": "python",
   "name": "python3"
  },
  "language_info": {
   "codemirror_mode": {
    "name": "ipython",
    "version": 3
   },
   "file_extension": ".py",
   "mimetype": "text/x-python",
   "name": "python",
   "nbconvert_exporter": "python",
   "pygments_lexer": "ipython3",
   "version": "3.11.11"
  }
 },
 "nbformat": 4,
 "nbformat_minor": 2
}
